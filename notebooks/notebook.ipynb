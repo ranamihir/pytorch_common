{
 "cells": [
  {
   "cell_type": "code",
   "execution_count": null,
   "metadata": {},
   "outputs": [],
   "source": [
    "from pytorch_common import config as cfg\n",
    "from vrdscommon.dsprunner import DspRunner, DspPhase\n",
    "import pandas as pd\n",
    "import numpy as np\n",
    "import matplotlib.pyplot as plt\n",
    "from vrdscommon.db_utils import FastBigQuery, vrdsprefix\n",
    "import vrdscommon\n",
    "from pytorch_common.model_trainer import ModelTrainer"
   ]
  },
  {
   "cell_type": "code",
   "execution_count": null,
   "metadata": {},
   "outputs": [],
   "source": [
    "# create the runner\n",
    "runner = DspRunner('pytorch_common')\n",
    "runner.set_config_class(cfg.Config)\n",
    "\n",
    "# Uncomment next line to add a custom configuration, in project's configs/ directory, for this run, or specify absolute path \n",
    "#runner.set_extra_config('config-try1.yaml')\n",
    "\n",
    "# initialize runner\n",
    "runner.build()\n",
    "\n",
    "# tell runner which ModelTrainer to use, which is needed for model persistence \n",
    "mt = ModelTrainer(runner.config, runner.args, runner.job_reporter)\n",
    "runner.add_trainer(mt)"
   ]
  },
  {
   "cell_type": "code",
   "execution_count": null,
   "metadata": {},
   "outputs": [],
   "source": [
    "# Example of predict call assuming --pull, --featurize and --train were already called\n",
    "model_name = runner.config.model \n",
    "feature_matrix = runner.load('feature_matrix')\n",
    "feature_matrix.drop(columns=[runner.config.target], inplace=True)\n",
    "training_result = runner.load(runner.name + '_' + model_name)\n",
    "prediction = mt.predict(feature_matrix, training_result)"
   ]
  },
  {
   "cell_type": "code",
   "execution_count": null,
   "metadata": {},
   "outputs": [],
   "source": [
    "# sample creation of some pyplot figure\n",
    "import matplotlib.pyplot as plt\n",
    "plt.plot([1,2,3,4])\n",
    "plt.ylabel('some numbers')\n",
    "fig = plt.gcf()\n",
    "plt.show()"
   ]
  },
  {
   "cell_type": "code",
   "execution_count": null,
   "metadata": {
    "collapsed": true
   },
   "outputs": [],
   "source": [
    "# Calls matplotlib.pyplot's fig.savefig(...) method and stores the file in <datadir>/images\n",
    "runner.save_plot('graph1.png', fig)"
   ]
  }
 ],
 "metadata": {
  "kernelspec": {
   "display_name": "Python [conda env:pytorch_common]",
   "language": "python",
   "name": "conda-env-pytorch_common-py"
  },
  "language_info": {
   "codemirror_mode": {
    "name": "ipython",
    "version": 3.0
   },
   "file_extension": ".py",
   "mimetype": "text/x-python",
   "name": "python",
   "nbconvert_exporter": "python",
   "pygments_lexer": "ipython3",
   "version": "3.5.0"
  }
 },
 "nbformat": 4,
 "nbformat_minor": 0
}
