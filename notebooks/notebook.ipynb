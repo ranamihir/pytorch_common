{
 "cells": [
  {
   "cell_type": "code",
   "execution_count": 1,
   "metadata": {},
   "outputs": [],
   "source": [
    "from torch.utils.data import DataLoader\n",
    "from torch.optim import SGD\n",
    "\n",
    "from pytorch_common.additional_configs import BaseDatasetConfig, BaseModelConfig\n",
    "from pytorch_common.config import load_pytorch_common_config\n",
    "from pytorch_common.datasets import create_dataset\n",
    "from pytorch_common.metrics import get_loss_eval_criteria\n",
    "from pytorch_common.models import create_model\n",
    "from pytorch_common.train_utils import train_model\n",
    "from pytorch_common.utils import get_model_performance_trackers"
   ]
  },
  {
   "cell_type": "code",
   "execution_count": 2,
   "metadata": {},
   "outputs": [],
   "source": [
    "# Create your own config (or load from a yaml file)\n",
    "config_dict = {\"batch_size_per_gpu\": 5, \"device\": \"cpu\", \"epochs\": 2, \"lr\": 1e-3, \"disable_checkpointing\": False}\n",
    "\n",
    "# Load the deault pytorch_common config, and then override it with your own custom one\n",
    "config = load_pytorch_common_config(config_dict)"
   ]
  },
  {
   "cell_type": "code",
   "execution_count": 3,
   "metadata": {},
   "outputs": [
    {
     "name": "stderr",
     "output_type": "stream",
     "text": [
      "2020-07-23 22:10:22,970: INFO: models_dl.py: print_model: SingleLayerClassifier(\n",
      "  (fc): Linear(in_features=1, out_features=2, bias=True)\n",
      ")\n",
      "2020-07-23 22:10:22,971: INFO: utils.py: get_trainable_params: Number of trainable/total parameters in SingleLayerClassifier: 4/4\n",
      "2020-07-23 22:10:22,972: WARNING: models_dl.py: initialize_model: You have set `init_weights=True`. Make sure your model does not include a pretrained model, otherwise its weights will also be reinitialized.\n"
     ]
    }
   ],
   "source": [
    "# Create your own objects here\n",
    "dataset_config = BaseDatasetConfig({\"size\": 5, \"dim\": 1, \"num_classes\": 2})\n",
    "model_config = BaseModelConfig({\"in_dim\": 1, \"num_classes\": 2})\n",
    "dataset = create_dataset(\"multi_class_dataset\", dataset_config)\n",
    "train_loader = DataLoader(dataset, batch_size=config.train_batch_size)\n",
    "val_loader = DataLoader(dataset, batch_size=config.eval_batch_size)\n",
    "model = create_model(\"single_layer_classifier\", model_config)\n",
    "optimizer = SGD(model.parameters(), lr=config.lr)"
   ]
  },
  {
   "cell_type": "code",
   "execution_count": 4,
   "metadata": {},
   "outputs": [
    {
     "name": "stderr",
     "output_type": "stream",
     "text": [
      "2020-07-23 22:10:22,981: INFO: train_utils.py: perform_one_epoch: Train Epoch: 1 [5/5 (100%)]\tLoss: 1.171867\n",
      "2020-07-23 22:10:22,985: INFO: utils.py: log_epoch_metrics: \n",
      "\u001b[1mTRAIN Epoch: 1\tAverage loss: 1.1719, accuracy: 0.2000\u001b[0m\n",
      "\n",
      "2020-07-23 22:10:22,988: INFO: utils.py: log_epoch_metrics: \n",
      "\u001b[1mVAL   Epoch: 1\tAverage loss: 1.1711, accuracy: 0.2000\u001b[0m\n",
      "\n",
      "2020-07-23 22:10:22,989: INFO: train_utils.py: train_model: Computing best epoch and adding to validation logger...\n",
      "2020-07-23 22:10:22,990: INFO: train_utils.py: train_model: Done.\n",
      "2020-07-23 22:10:22,991: INFO: train_utils.py: train_model: Replacing current best model checkpoint...\n",
      "2020-07-23 22:10:22,991: INFO: train_utils.py: save_model: Saving state checkpoint '/Users/mrana/pytorch_common/checkpoints/checkpoint-state-single_layer_classifier-epoch_1.pt'...\n",
      "2020-07-23 22:10:22,994: INFO: train_utils.py: save_model: Done.\n",
      "2020-07-23 22:10:22,995: INFO: train_utils.py: train_model: Done.\n",
      "2020-07-23 22:10:22,999: INFO: train_utils.py: perform_one_epoch: Train Epoch: 2 [5/5 (100%)]\tLoss: 1.171101\n",
      "2020-07-23 22:10:23,002: INFO: utils.py: log_epoch_metrics: \n",
      "\u001b[1mTRAIN Epoch: 2\tAverage loss: 1.1711, accuracy: 0.2000\u001b[0m\n",
      "\n",
      "2020-07-23 22:10:23,006: INFO: utils.py: log_epoch_metrics: \n",
      "\u001b[1mVAL   Epoch: 2\tAverage loss: 1.1703, accuracy: 0.2000\u001b[0m\n",
      "\n",
      "2020-07-23 22:10:23,006: INFO: train_utils.py: train_model: Dumping model and results...\n",
      "2020-07-23 22:10:23,007: INFO: train_utils.py: save_model: Saving state checkpoint '/Users/mrana/pytorch_common/checkpoints/checkpoint-state-single_layer_classifier-epoch_2.pt'...\n",
      "2020-07-23 22:10:23,010: INFO: train_utils.py: save_model: Done.\n",
      "2020-07-23 22:10:23,011: INFO: train_utils.py: save_model: Saving model checkpoint '/Users/mrana/pytorch_common/checkpoints/checkpoint-model-single_layer_classifier-epoch_2.pt'...\n",
      "2020-07-23 22:10:23,012: INFO: utils.py: send_model_to_device: Setting default device for model to cpu...\n",
      "2020-07-23 22:10:23,013: INFO: utils.py: send_model_to_device: Done.\n",
      "2020-07-23 22:10:23,020: INFO: train_utils.py: save_model: Done.\n",
      "2020-07-23 22:10:23,021: INFO: train_utils.py: load_model: Loading state checkpoint '/Users/mrana/pytorch_common/checkpoints/checkpoint-state-single_layer_classifier-epoch_1.pt'...\n",
      "2020-07-23 22:10:23,023: INFO: train_utils.py: load_model: Done.\n",
      "2020-07-23 22:10:23,024: INFO: train_utils.py: save_model: Saving model checkpoint '/Users/mrana/pytorch_common/checkpoints/checkpoint-model-single_layer_classifier-epoch_1.pt'...\n",
      "2020-07-23 22:10:23,025: INFO: utils.py: send_model_to_device: Setting default device for model to cpu...\n",
      "2020-07-23 22:10:23,026: INFO: utils.py: send_model_to_device: Done.\n",
      "2020-07-23 22:10:23,032: INFO: train_utils.py: save_model: Done.\n",
      "2020-07-23 22:10:23,032: INFO: train_utils.py: train_model: Done.\n"
     ]
    },
    {
     "name": "stdout",
     "output_type": "stream",
     "text": [
      "Function 'pytorch_common.train_utils.perform_one_epoch' took 4.21ms\n",
      "Function 'pytorch_common.train_utils.perform_one_epoch' took 1.91ms\n",
      "Function 'pytorch_common.train_utils.perform_one_epoch' took 2.62ms\n",
      "Function 'pytorch_common.train_utils.perform_one_epoch' took 4.47ms\n",
      "Function 'pytorch_common.train_utils.perform_one_epoch' took 1.81ms\n",
      "Function 'pytorch_common.train_utils.perform_one_epoch' took 2.46ms\n",
      "Function 'pytorch_common.train_utils.train_model' took 54.96ms\n"
     ]
    }
   ],
   "source": [
    "# Use `pytorch_common` to get loss/eval criteria, initialize loggers, and train the model\n",
    "loss_criterion_train, loss_criterion_eval, eval_criteria = get_loss_eval_criteria(config, reduction=\"mean\")\n",
    "train_logger, val_logger = get_model_performance_trackers(config)\n",
    "return_dict = train_model(\n",
    "    model, config, train_loader, val_loader, optimizer, loss_criterion_train, loss_criterion_eval, eval_criteria, train_logger, val_logger\n",
    ")"
   ]
  },
  {
   "cell_type": "code",
   "execution_count": null,
   "metadata": {},
   "outputs": [],
   "source": []
  },
  {
   "cell_type": "code",
   "execution_count": null,
   "metadata": {},
   "outputs": [],
   "source": []
  }
 ],
 "metadata": {
  "kernelspec": {
   "display_name": "Python [conda env:github] *",
   "language": "python",
   "name": "conda-env-github-py"
  },
  "language_info": {
   "codemirror_mode": {
    "name": "ipython",
    "version": 3
   },
   "file_extension": ".py",
   "mimetype": "text/x-python",
   "name": "python",
   "nbconvert_exporter": "python",
   "pygments_lexer": "ipython3",
   "version": "3.7.0"
  }
 },
 "nbformat": 4,
 "nbformat_minor": 1
}
