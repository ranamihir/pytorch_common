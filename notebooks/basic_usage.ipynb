{
 "cells": [
  {
   "cell_type": "code",
   "execution_count": 1,
   "metadata": {},
   "outputs": [],
   "source": [
    "import numpy as np\n",
    "from torch.utils.data import DataLoader\n",
    "from torch.optim import SGD\n",
    "\n",
    "from pytorch_common.additional_configs import BaseDatasetConfig, BaseModelConfig\n",
    "from pytorch_common.config import load_pytorch_common_config\n",
    "from pytorch_common.datasets import create_dataset\n",
    "from pytorch_common.metrics import get_loss_eval_criteria\n",
    "from pytorch_common.models import create_model\n",
    "from pytorch_common.train_utils import train_model, get_all_predictions, EarlyStopping\n",
    "from pytorch_common.utils import get_model_performance_trackers"
   ]
  },
  {
   "cell_type": "code",
   "execution_count": null,
   "metadata": {},
   "outputs": [],
   "source": []
  },
  {
   "cell_type": "markdown",
   "metadata": {},
   "source": [
    "## Create/load your own config here"
   ]
  },
  {
   "cell_type": "code",
   "execution_count": 2,
   "metadata": {},
   "outputs": [],
   "source": [
    "# Create your own config (or load from a yaml file)\n",
    "config_dict = {\n",
    "    \"batch_size_per_gpu\": 5,\n",
    "    \"device\": \"cpu\",\n",
    "    \"epochs\": 5,\n",
    "    \"lr\": 1e-3,\n",
    "    \"eval_criteria\": [\"accuracy\", \"precision\", \"recall\", \"f1\", \"auc\"],\n",
    "    \"disable_checkpointing\": False,\n",
    "    \"use_early_stopping\": True,\n",
    "}"
   ]
  },
  {
   "cell_type": "markdown",
   "metadata": {},
   "source": [
    "## Merge it with pytorch_common default config"
   ]
  },
  {
   "cell_type": "code",
   "execution_count": 3,
   "metadata": {},
   "outputs": [],
   "source": [
    "# Load the deault pytorch_common config, and then override it with your own custom one\n",
    "config = load_pytorch_common_config(config_dict)"
   ]
  },
  {
   "cell_type": "markdown",
   "metadata": {},
   "source": [
    "## Define your training objects here"
   ]
  },
  {
   "cell_type": "code",
   "execution_count": 4,
   "metadata": {},
   "outputs": [
    {
     "name": "stderr",
     "output_type": "stream",
     "text": [
      "2020-07-23 22:37:11,837: INFO: models_dl.py: print_model: SingleLayerClassifier(\n",
      "  (fc): Linear(in_features=1, out_features=2, bias=True)\n",
      ")\n",
      "2020-07-23 22:37:11,838: INFO: utils.py: get_trainable_params: Number of trainable/total parameters in SingleLayerClassifier: 4/4\n",
      "2020-07-23 22:37:11,839: WARNING: models_dl.py: initialize_model: You have set `init_weights=True`. Make sure your model does not include a pretrained model, otherwise its weights will also be reinitialized.\n"
     ]
    }
   ],
   "source": [
    "# Create your own objects here\n",
    "dataset_config = BaseDatasetConfig({\"size\": 10, \"dim\": 1, \"num_classes\": 2})\n",
    "model_config = BaseModelConfig({\"in_dim\": 1, \"num_classes\": 2})\n",
    "\n",
    "dataset = create_dataset(\"multi_class_dataset\", dataset_config)\n",
    "train_loader = DataLoader(dataset, batch_size=config.train_batch_size)\n",
    "np.random.shuffle(dataset.data.target)  # Shuffle just to randomize data\n",
    "val_loader = DataLoader(dataset, batch_size=config.eval_batch_size)\n",
    "\n",
    "model = create_model(\"single_layer_classifier\", model_config)\n",
    "optimizer = SGD(model.parameters(), lr=config.lr)"
   ]
  },
  {
   "cell_type": "markdown",
   "metadata": {},
   "source": [
    "## Use pytorch_common to define early stopping, batch decoupling functions, etc."
   ]
  },
  {
   "cell_type": "code",
   "execution_count": 5,
   "metadata": {},
   "outputs": [],
   "source": [
    "# Use `pytorch_common` to get loss/eval criteria, initialize loggers, and train the model\n",
    "early_stopping = EarlyStopping(criterion=config.early_stopping_criterion, patience=3)\n",
    "loss_criterion_train, loss_criterion_eval, eval_criteria = get_loss_eval_criteria(config, reduction=\"mean\")\n",
    "train_logger, val_logger = get_model_performance_trackers(config)"
   ]
  },
  {
   "cell_type": "markdown",
   "metadata": {},
   "source": [
    "## Train the model!"
   ]
  },
  {
   "cell_type": "code",
   "execution_count": 6,
   "metadata": {
    "scrolled": false
   },
   "outputs": [
    {
     "name": "stderr",
     "output_type": "stream",
     "text": [
      "2020-07-23 22:37:11,857: INFO: train_utils.py: perform_one_epoch: Train Epoch: 1 [5/10 (50%)]\tLoss: 0.885466\n",
      "2020-07-23 22:37:11,860: INFO: train_utils.py: perform_one_epoch: Train Epoch: 1 [10/10 (100%)]\tLoss: 1.172393\n",
      "2020-07-23 22:37:11,868: INFO: utils.py: log_epoch_metrics: \n",
      "\u001b[1mTRAIN Epoch: 1\tAverage loss: 1.0289, accuracy: 0.4000, precision: 0.4000, recall: 1.0000, f1: 0.5714, auc: 0.6667\u001b[0m\n",
      "\n",
      "2020-07-23 22:37:11,875: INFO: utils.py: log_epoch_metrics: \n",
      "\u001b[1mVAL   Epoch: 1\tAverage loss: 1.0283, accuracy: 0.4000, precision: 0.4000, recall: 1.0000, f1: 0.5714, auc: 0.6667\u001b[0m\n",
      "\n",
      "2020-07-23 22:37:11,876: INFO: train_utils.py: train_model: Computing best epoch and adding to validation logger...\n",
      "2020-07-23 22:37:11,876: INFO: train_utils.py: train_model: Done.\n",
      "2020-07-23 22:37:11,878: INFO: train_utils.py: train_model: Replacing current best model checkpoint...\n",
      "2020-07-23 22:37:11,879: INFO: train_utils.py: save_model: Saving state checkpoint '/Users/mrana/pytorch_common/checkpoints/checkpoint-state-single_layer_classifier-epoch_1.pt'...\n",
      "2020-07-23 22:37:11,881: INFO: train_utils.py: save_model: Done.\n",
      "2020-07-23 22:37:11,882: INFO: train_utils.py: train_model: Done.\n",
      "2020-07-23 22:37:11,886: INFO: train_utils.py: perform_one_epoch: Train Epoch: 2 [5/10 (50%)]\tLoss: 0.884766\n",
      "2020-07-23 22:37:11,889: INFO: train_utils.py: perform_one_epoch: Train Epoch: 2 [10/10 (100%)]\tLoss: 1.171463\n",
      "2020-07-23 22:37:11,897: INFO: utils.py: log_epoch_metrics: \n",
      "\u001b[1mTRAIN Epoch: 2\tAverage loss: 1.0281, accuracy: 0.4000, precision: 0.4000, recall: 1.0000, f1: 0.5714, auc: 0.6667\u001b[0m\n",
      "\n",
      "2020-07-23 22:37:11,904: INFO: utils.py: log_epoch_metrics: \n",
      "\u001b[1mVAL   Epoch: 2\tAverage loss: 1.0275, accuracy: 0.4000, precision: 0.4000, recall: 1.0000, f1: 0.5714, auc: 0.6667\u001b[0m\n",
      "\n",
      "2020-07-23 22:37:11,907: INFO: train_utils.py: perform_one_epoch: Train Epoch: 3 [5/10 (50%)]\tLoss: 0.884066\n",
      "2020-07-23 22:37:11,910: INFO: train_utils.py: perform_one_epoch: Train Epoch: 3 [10/10 (100%)]\tLoss: 1.170534\n",
      "2020-07-23 22:37:11,918: INFO: utils.py: log_epoch_metrics: \n",
      "\u001b[1mTRAIN Epoch: 3\tAverage loss: 1.0273, accuracy: 0.4000, precision: 0.4000, recall: 1.0000, f1: 0.5714, auc: 0.6667\u001b[0m\n",
      "\n",
      "2020-07-23 22:37:11,925: INFO: utils.py: log_epoch_metrics: \n",
      "\u001b[1mVAL   Epoch: 3\tAverage loss: 1.0267, accuracy: 0.4000, precision: 0.4000, recall: 1.0000, f1: 0.5714, auc: 0.6667\u001b[0m\n",
      "\n",
      "2020-07-23 22:37:11,929: INFO: train_utils.py: perform_one_epoch: Train Epoch: 4 [5/10 (50%)]\tLoss: 0.883368\n",
      "2020-07-23 22:37:11,932: INFO: train_utils.py: perform_one_epoch: Train Epoch: 4 [10/10 (100%)]\tLoss: 1.169606\n",
      "2020-07-23 22:37:11,939: INFO: utils.py: log_epoch_metrics: \n",
      "\u001b[1mTRAIN Epoch: 4\tAverage loss: 1.0265, accuracy: 0.4000, precision: 0.4000, recall: 1.0000, f1: 0.5714, auc: 0.6667\u001b[0m\n",
      "\n",
      "2020-07-23 22:37:11,947: INFO: utils.py: log_epoch_metrics: \n",
      "\u001b[1mVAL   Epoch: 4\tAverage loss: 1.0259, accuracy: 0.4000, precision: 0.4000, recall: 1.0000, f1: 0.5714, auc: 0.6667\u001b[0m\n",
      "\n",
      "2020-07-23 22:37:11,948: INFO: train_utils.py: train_model: Stopping early after 4 epochs.\n",
      "2020-07-23 22:37:11,949: INFO: train_utils.py: train_model: Dumping model and results...\n",
      "2020-07-23 22:37:11,950: INFO: train_utils.py: save_model: Saving state checkpoint '/Users/mrana/pytorch_common/checkpoints/checkpoint-state-single_layer_classifier-epoch_4.pt'...\n",
      "2020-07-23 22:37:11,952: INFO: train_utils.py: save_model: Done.\n",
      "2020-07-23 22:37:11,954: INFO: train_utils.py: save_model: Saving model checkpoint '/Users/mrana/pytorch_common/checkpoints/checkpoint-model-single_layer_classifier-epoch_4.pt'...\n",
      "2020-07-23 22:37:11,955: INFO: utils.py: send_model_to_device: Setting default device for model to cpu...\n",
      "2020-07-23 22:37:11,956: INFO: utils.py: send_model_to_device: Done.\n",
      "2020-07-23 22:37:11,964: INFO: train_utils.py: save_model: Done.\n",
      "2020-07-23 22:37:11,965: INFO: train_utils.py: load_model: Loading state checkpoint '/Users/mrana/pytorch_common/checkpoints/checkpoint-state-single_layer_classifier-epoch_1.pt'...\n",
      "2020-07-23 22:37:11,967: INFO: train_utils.py: load_model: Done.\n",
      "2020-07-23 22:37:11,968: INFO: train_utils.py: save_model: Saving model checkpoint '/Users/mrana/pytorch_common/checkpoints/checkpoint-model-single_layer_classifier-epoch_1.pt'...\n",
      "2020-07-23 22:37:11,969: INFO: utils.py: send_model_to_device: Setting default device for model to cpu...\n",
      "2020-07-23 22:37:11,970: INFO: utils.py: send_model_to_device: Done.\n",
      "2020-07-23 22:37:11,976: INFO: train_utils.py: save_model: Done.\n",
      "2020-07-23 22:37:11,976: INFO: train_utils.py: train_model: Done.\n"
     ]
    },
    {
     "name": "stdout",
     "output_type": "stream",
     "text": [
      "Function 'pytorch_common.train_utils.perform_one_epoch' took 8.04ms\n",
      "Function 'pytorch_common.train_utils.perform_one_epoch' took 7.29ms\n",
      "Function 'pytorch_common.train_utils.perform_one_epoch' took 5.75ms\n",
      "Function 'pytorch_common.train_utils.perform_one_epoch' took 7.73ms\n",
      "Function 'pytorch_common.train_utils.perform_one_epoch' took 6.37ms\n",
      "Function 'pytorch_common.train_utils.perform_one_epoch' took 5.84ms\n",
      "Function 'pytorch_common.train_utils.perform_one_epoch' took 6.88ms\n",
      "Function 'pytorch_common.train_utils.perform_one_epoch' took 6.43ms\n",
      "Function 'pytorch_common.train_utils.perform_one_epoch' took 6.18ms\n",
      "Function 'pytorch_common.train_utils.perform_one_epoch' took 6.88ms\n",
      "Function 'pytorch_common.train_utils.perform_one_epoch' took 5.62ms\n",
      "Function 'pytorch_common.train_utils.perform_one_epoch' took 6.86ms\n",
      "Function 'pytorch_common.train_utils.train_model' took 124.78ms\n"
     ]
    }
   ],
   "source": [
    "return_dict = train_model(\n",
    "    model=model,\n",
    "    config=config,\n",
    "    train_loader=train_loader,\n",
    "    val_loader=val_loader,\n",
    "    optimizer=optimizer,\n",
    "    loss_criterion_train=loss_criterion_train,\n",
    "    loss_criterion_eval=loss_criterion_eval,\n",
    "    eval_criteria=eval_criteria,\n",
    "    train_logger=train_logger,\n",
    "    val_logger=val_logger,\n",
    "    epochs=config.epochs,\n",
    "    early_stopping=early_stopping,\n",
    ")"
   ]
  },
  {
   "cell_type": "code",
   "execution_count": null,
   "metadata": {},
   "outputs": [],
   "source": []
  },
  {
   "cell_type": "markdown",
   "metadata": {},
   "source": [
    "## Inspect results"
   ]
  },
  {
   "cell_type": "code",
   "execution_count": 7,
   "metadata": {},
   "outputs": [
    {
     "data": {
      "text/plain": [
       "dict_keys(['model', 'best_model', 'train_logger', 'val_logger', 'optimizer', 'scheduler', 'stop_epoch', 'best_epoch', 'best_checkpoint_file'])"
      ]
     },
     "execution_count": 7,
     "metadata": {},
     "output_type": "execute_result"
    }
   ],
   "source": [
    "return_dict.keys()"
   ]
  },
  {
   "cell_type": "code",
   "execution_count": 8,
   "metadata": {},
   "outputs": [
    {
     "data": {
      "text/plain": [
       "1"
      ]
     },
     "execution_count": 8,
     "metadata": {},
     "output_type": "execute_result"
    }
   ],
   "source": [
    "best_epoch = return_dict[\"val_logger\"].best_epoch\n",
    "best_epoch"
   ]
  },
  {
   "cell_type": "code",
   "execution_count": 9,
   "metadata": {},
   "outputs": [
    {
     "data": {
      "text/plain": [
       "OrderedDict([('accuracy', 0.4),\n",
       "             ('precision', 0.4),\n",
       "             ('recall', 1.0),\n",
       "             ('f1', 0.5714285714285715),\n",
       "             ('auc', 0.6666666666666667)])"
      ]
     },
     "execution_count": 9,
     "metadata": {},
     "output_type": "execute_result"
    }
   ],
   "source": [
    "return_dict[\"val_logger\"].get_eval_metrics(epoch=best_epoch)"
   ]
  },
  {
   "cell_type": "code",
   "execution_count": 10,
   "metadata": {},
   "outputs": [
    {
     "data": {
      "text/html": [
       "<div>\n",
       "<style scoped>\n",
       "    .dataframe tbody tr th:only-of-type {\n",
       "        vertical-align: middle;\n",
       "    }\n",
       "\n",
       "    .dataframe tbody tr th {\n",
       "        vertical-align: top;\n",
       "    }\n",
       "\n",
       "    .dataframe thead th {\n",
       "        text-align: right;\n",
       "    }\n",
       "</style>\n",
       "<table border=\"1\" class=\"dataframe\">\n",
       "  <thead>\n",
       "    <tr style=\"text-align: right;\">\n",
       "      <th></th>\n",
       "      <th>epoch</th>\n",
       "      <th>accuracy</th>\n",
       "      <th>precision</th>\n",
       "      <th>recall</th>\n",
       "      <th>f1</th>\n",
       "      <th>auc</th>\n",
       "    </tr>\n",
       "  </thead>\n",
       "  <tbody>\n",
       "    <tr>\n",
       "      <th>0</th>\n",
       "      <td>1</td>\n",
       "      <td>0.4</td>\n",
       "      <td>0.4</td>\n",
       "      <td>1.0</td>\n",
       "      <td>0.571429</td>\n",
       "      <td>0.666667</td>\n",
       "    </tr>\n",
       "    <tr>\n",
       "      <th>1</th>\n",
       "      <td>2</td>\n",
       "      <td>0.4</td>\n",
       "      <td>0.4</td>\n",
       "      <td>1.0</td>\n",
       "      <td>0.571429</td>\n",
       "      <td>0.666667</td>\n",
       "    </tr>\n",
       "    <tr>\n",
       "      <th>2</th>\n",
       "      <td>3</td>\n",
       "      <td>0.4</td>\n",
       "      <td>0.4</td>\n",
       "      <td>1.0</td>\n",
       "      <td>0.571429</td>\n",
       "      <td>0.666667</td>\n",
       "    </tr>\n",
       "    <tr>\n",
       "      <th>3</th>\n",
       "      <td>4</td>\n",
       "      <td>0.4</td>\n",
       "      <td>0.4</td>\n",
       "      <td>1.0</td>\n",
       "      <td>0.571429</td>\n",
       "      <td>0.666667</td>\n",
       "    </tr>\n",
       "  </tbody>\n",
       "</table>\n",
       "</div>"
      ],
      "text/plain": [
       "   epoch  accuracy  precision  recall        f1       auc\n",
       "0      1       0.4        0.4     1.0  0.571429  0.666667\n",
       "1      2       0.4        0.4     1.0  0.571429  0.666667\n",
       "2      3       0.4        0.4     1.0  0.571429  0.666667\n",
       "3      4       0.4        0.4     1.0  0.571429  0.666667"
      ]
     },
     "execution_count": 10,
     "metadata": {},
     "output_type": "execute_result"
    }
   ],
   "source": [
    "return_dict[\"val_logger\"].get_eval_metrics_df()"
   ]
  },
  {
   "cell_type": "code",
   "execution_count": 11,
   "metadata": {
    "scrolled": true
   },
   "outputs": [
    {
     "data": {
      "text/plain": [
       "OrderedDict([(1, [0.8854662179946899, 1.1723929643630981]),\n",
       "             (2, [0.884765625, 1.1714625358581543]),\n",
       "             (3, [0.8840659856796265, 1.170533537864685]),\n",
       "             (4, [0.8833677172660828, 1.1696058511734009])])"
      ]
     },
     "execution_count": 11,
     "metadata": {},
     "output_type": "execute_result"
    }
   ],
   "source": [
    "return_dict[\"train_logger\"].loss_hist"
   ]
  },
  {
   "cell_type": "code",
   "execution_count": null,
   "metadata": {},
   "outputs": [],
   "source": []
  },
  {
   "cell_type": "markdown",
   "metadata": {},
   "source": [
    "## Test model"
   ]
  },
  {
   "cell_type": "code",
   "execution_count": 12,
   "metadata": {},
   "outputs": [],
   "source": [
    "# Create dummy test data\n",
    "np.random.shuffle(dataset.data.target)\n",
    "test_loader = DataLoader(dataset, batch_size=config.test_batch_size)"
   ]
  },
  {
   "cell_type": "code",
   "execution_count": 13,
   "metadata": {},
   "outputs": [
    {
     "name": "stderr",
     "output_type": "stream",
     "text": [
      "2020-07-23 22:37:12,040: INFO: train_utils.py: perform_one_epoch: 5/10 (50%) complete.\n",
      "2020-07-23 22:37:12,042: INFO: train_utils.py: perform_one_epoch: 10/10 (100%) complete.\n"
     ]
    },
    {
     "name": "stdout",
     "output_type": "stream",
     "text": [
      "Function 'pytorch_common.train_utils.perform_one_epoch' took 6.28ms\n"
     ]
    }
   ],
   "source": [
    "outputs_hist, preds_hist, probs_hist = get_all_predictions(\n",
    "    model=return_dict[\"best_model\"],\n",
    "    dataloader=test_loader,\n",
    "    device=config.device,\n",
    "    threshold_prob=0.8,\n",
    ")"
   ]
  },
  {
   "cell_type": "code",
   "execution_count": 14,
   "metadata": {},
   "outputs": [
    {
     "data": {
      "text/plain": [
       "tensor([0.7838, 0.8669, 0.8254, 0.5460, 0.8069, 0.8846, 0.8112, 0.7981, 0.8199,\n",
       "        0.8383])"
      ]
     },
     "execution_count": 14,
     "metadata": {},
     "output_type": "execute_result"
    }
   ],
   "source": [
    "probs_hist"
   ]
  },
  {
   "cell_type": "code",
   "execution_count": 15,
   "metadata": {},
   "outputs": [
    {
     "data": {
      "text/plain": [
       "tensor([0, 1, 1, 0, 1, 1, 1, 0, 1, 1])"
      ]
     },
     "execution_count": 15,
     "metadata": {},
     "output_type": "execute_result"
    }
   ],
   "source": [
    "preds_hist"
   ]
  },
  {
   "cell_type": "code",
   "execution_count": null,
   "metadata": {},
   "outputs": [],
   "source": []
  },
  {
   "cell_type": "code",
   "execution_count": null,
   "metadata": {},
   "outputs": [],
   "source": []
  }
 ],
 "metadata": {
  "kernelspec": {
   "display_name": "Python [conda env:github] *",
   "language": "python",
   "name": "conda-env-github-py"
  },
  "language_info": {
   "codemirror_mode": {
    "name": "ipython",
    "version": 3
   },
   "file_extension": ".py",
   "mimetype": "text/x-python",
   "name": "python",
   "nbconvert_exporter": "python",
   "pygments_lexer": "ipython3",
   "version": "3.7.0"
  }
 },
 "nbformat": 4,
 "nbformat_minor": 1
}
